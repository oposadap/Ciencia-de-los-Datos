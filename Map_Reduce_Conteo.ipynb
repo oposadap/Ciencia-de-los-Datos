{
  "nbformat": 4,
  "nbformat_minor": 0,
  "metadata": {
    "colab": {
      "name": "Clase_1_AGVD_Grupo1.ipynb",
      "provenance": [],
      "include_colab_link": true
    },
    "kernelspec": {
      "name": "python3",
      "display_name": "Python 3"
    }
  },
  "cells": [
    {
      "cell_type": "markdown",
      "metadata": {
        "id": "view-in-github",
        "colab_type": "text"
      },
      "source": [
        "<a href=\"https://colab.research.google.com/github/oposadap/Ciencia-de-los-Datos/blob/master/Map_Reduce_Conteo.ipynb\" target=\"_parent\"><img src=\"https://colab.research.google.com/assets/colab-badge.svg\" alt=\"Open In Colab\"/></a>"
      ]
    },
    {
      "cell_type": "code",
      "metadata": {
        "id": "4h0m7G0HHIap",
        "colab_type": "code",
        "colab": {}
      },
      "source": [
        "## Se crea el directorio de entrada\n",
        "!rm -rf input output\n",
        "!mkdir input"
      ],
      "execution_count": 0,
      "outputs": []
    },
    {
      "cell_type": "code",
      "metadata": {
        "id": "VvwGSgUvIgGU",
        "colab_type": "code",
        "colab": {
          "base_uri": "https://localhost:8080/",
          "height": 34
        },
        "outputId": "9151d861-f880-40c8-f366-eb4dfdb02be5"
      },
      "source": [
        "%%writefile input/text0.txt\n",
        "Analytics is the discovery, interpretation, and communication of meaningful patterns\n",
        "in data. Especially valuable in areas rich with recorded information, analytics relies\n",
        "on the simultaneous application of statistics, computer programming and operations research\n",
        "to quantify performance.\n",
        "\n",
        "Organizations may apply analytics to business data to describe, predict, and improve business\n",
        "performance. Specifically, areas within analytics include predictive analytics, prescriptive\n",
        "analytics, enterprise decision management, descriptive analytics, cognitive analytics, Big\n",
        "Data Analytics, retail analytics, store assortment and stock-keeping unit optimization,\n",
        "marketing optimization and marketing mix modeling, web analytics, call analytics, speech\n",
        "analytics, sales force sizing and optimization, price and promotion modeling, predictive\n",
        "science, credit risk analysis, and fraud analytics. Since analytics can require extensive\n",
        "computation (see big data), the algorithms and software used for analytics harness the most\n",
        "current methods in computer science, statistics, and mathematics."
      ],
      "execution_count": 6,
      "outputs": [
        {
          "output_type": "stream",
          "text": [
            "Writing input/text0.txt\n"
          ],
          "name": "stdout"
        }
      ]
    },
    {
      "cell_type": "code",
      "metadata": {
        "id": "JGJM-O6sIlMp",
        "colab_type": "code",
        "colab": {
          "base_uri": "https://localhost:8080/",
          "height": 34
        },
        "outputId": "e361a535-5e3c-45cb-a55e-b31162f065cb"
      },
      "source": [
        "%%writefile input/text1.txt\n",
        "The field of data analysis. Analytics often involves studying past historical data to\n",
        "research potential trends, to analyze the effects of certain decisions or events, or to\n",
        "evaluate the performance of a given tool or scenario. The goal of analytics is to improve\n",
        "the business by gaining knowledge which can be used to make improvements or changes."
      ],
      "execution_count": 8,
      "outputs": [
        {
          "output_type": "stream",
          "text": [
            "Writing input/text1.txt\n"
          ],
          "name": "stdout"
        }
      ]
    },
    {
      "cell_type": "code",
      "metadata": {
        "id": "LJ2ccpRgJANr",
        "colab_type": "code",
        "colab": {
          "base_uri": "https://localhost:8080/",
          "height": 34
        },
        "outputId": "cc2811a9-0dba-4bcf-95f7-e52d97c7b6ea"
      },
      "source": [
        "%%writefile input/text2.txt\n",
        "Data analytics (DA) is the process of examining data sets in order to draw conclusions\n",
        "about the information they contain, increasingly with the aid of specialized systems\n",
        "and software. Data analytics technologies and techniques are widely used in commercial\n",
        "industries to enable organizations to make more-informed business decisions and by\n",
        "scientists and researchers to verify or disprove scientific models, theories and\n",
        "hypotheses."
      ],
      "execution_count": 9,
      "outputs": [
        {
          "output_type": "stream",
          "text": [
            "Writing input/text2.txt\n"
          ],
          "name": "stdout"
        }
      ]
    },
    {
      "cell_type": "code",
      "metadata": {
        "id": "m9oZ_pshJafQ",
        "colab_type": "code",
        "colab": {
          "base_uri": "https://localhost:8080/",
          "height": 34
        },
        "outputId": "4e36c172-f106-4fac-fda1-aeb25614498c"
      },
      "source": [
        "%%writefile mapper.py\n",
        "#! /usr/bin/env python 3\n",
        "\n",
        "##\n",
        "## Esta es la funcion que mapea la entrada a parejas (clave, valor)\n",
        "##\n",
        "import sys\n",
        "if __name__ == \"__main__\": \n",
        "\n",
        "    ##\n",
        "    ## itera sobre cada linea de codigo recibida\n",
        "    ## a traves del flujo de entrada\n",
        "    ##\n",
        "    for line in sys.stdin:\n",
        "\n",
        "        ##\n",
        "        ## genera las tuplas palabra \\tabulador 1\n",
        "        ## ya que es un conteo de palabras\n",
        "        ##\n",
        "        for word in line.split():\n",
        "\n",
        "            ##\n",
        "            ## escribe al flujo estandar de salida\n",
        "            ##\n",
        "            sys.stdout.write(\"{}\\t1\\n\".format(len(word)))"
      ],
      "execution_count": 33,
      "outputs": [
        {
          "output_type": "stream",
          "text": [
            "Overwriting mapper.py\n"
          ],
          "name": "stdout"
        }
      ]
    },
    {
      "cell_type": "code",
      "metadata": {
        "id": "l_Xh4bVLO8hF",
        "colab_type": "code",
        "colab": {}
      },
      "source": [
        "## El programa anterior se hace ejecutable\n",
        "!chmod +x mapper.py"
      ],
      "execution_count": 0,
      "outputs": []
    },
    {
      "cell_type": "code",
      "metadata": {
        "id": "k6WXjysVPQbB",
        "colab_type": "code",
        "colab": {
          "base_uri": "https://localhost:8080/",
          "height": 34
        },
        "outputId": "6be886c6-0108-4c79-ed99-c998cf35050e"
      },
      "source": [
        "## la salida de la función anterior es:\n",
        "!cat ./input/text*.txt | ./mapper.py | head"
      ],
      "execution_count": 35,
      "outputs": [
        {
          "output_type": "stream",
          "text": [
            "/usr/bin/env: ‘python 3’: No such file or directory\n"
          ],
          "name": "stdout"
        }
      ]
    },
    {
      "cell_type": "code",
      "metadata": {
        "id": "andH_RXzPjUe",
        "colab_type": "code",
        "colab": {
          "base_uri": "https://localhost:8080/",
          "height": 194
        },
        "outputId": "e6dff4f2-a493-453f-f7f8-0ef2b0f524bf"
      },
      "source": [
        "## Alternativamente:\n",
        "!cat ./input/text*.txt | python3 mapper.py | head"
      ],
      "execution_count": 36,
      "outputs": [
        {
          "output_type": "stream",
          "text": [
            "9\t1\n",
            "2\t1\n",
            "3\t1\n",
            "10\t1\n",
            "15\t1\n",
            "3\t1\n",
            "13\t1\n",
            "2\t1\n",
            "10\t1\n",
            "8\t1\n"
          ],
          "name": "stdout"
        }
      ]
    },
    {
      "cell_type": "code",
      "metadata": {
        "id": "6yT4EjMpPwvy",
        "colab_type": "code",
        "colab": {
          "base_uri": "https://localhost:8080/",
          "height": 34
        },
        "outputId": "f6caa648-4031-4f1a-995b-0d575d45da97"
      },
      "source": [
        "%%writefile reducer.py\n",
        "#!/usr/bin/env python 3\n",
        "\n",
        "import sys\n",
        "\n",
        "##\n",
        "## Esta funcion reduce los elementos que\n",
        "## tienen la misma clave\n",
        "##\n",
        "\n",
        "if __name__ == '__main__':\n",
        "\n",
        "    curkey = None\n",
        "    total = 0\n",
        "    \n",
        "    ##\n",
        "    ## cada linea de texto recibida es una\n",
        "    ## entrada clave \\tabulador valor\n",
        "    ##\n",
        "    for line in sys.stdin:\n",
        "\n",
        "        key, val = line.split(\"\\t\")\n",
        "        val = int(val)\n",
        "\n",
        "        if key == curkey:\n",
        "            ##\n",
        "            ## No se ha cambiado de clave. Aca se\n",
        "            ## acumulan los valores para la misma clave.\n",
        "            ##\n",
        "            total += val\n",
        "            \n",
        "        else:\n",
        "            ##\n",
        "            ## Se cambio de clave. Se reinicia el\n",
        "            ## acumulador.\n",
        "            ##\n",
        "            if curkey is not None:\n",
        "                ##\n",
        "                ## una vez se han reducido todos los elementos\n",
        "                ## con la misma clave se imprime el resultado en\n",
        "                ## el flujo de salida\n",
        "                ##\n",
        "                sys.stdout.write(\"{}\\t{}\\n\".format(curkey, total))\n",
        "\n",
        "            curkey = key\n",
        "            total = val\n",
        "\n",
        "    sys.stdout.write(\"{}\\t{}\\n\".format(curkey, total))"
      ],
      "execution_count": 37,
      "outputs": [
        {
          "output_type": "stream",
          "text": [
            "Overwriting reducer.py\n"
          ],
          "name": "stdout"
        }
      ]
    },
    {
      "cell_type": "code",
      "metadata": {
        "id": "q78jp-hATzmK",
        "colab_type": "code",
        "colab": {}
      },
      "source": [
        "## El archivo se hace ejecutable\n",
        "!chmod +x reducer.py"
      ],
      "execution_count": 0,
      "outputs": []
    },
    {
      "cell_type": "code",
      "metadata": {
        "id": "1NQ2csi1T6S_",
        "colab_type": "code",
        "colab": {
          "base_uri": "https://localhost:8080/",
          "height": 34
        },
        "outputId": "3a772228-5831-460e-90f7-b4bee0c7ecee"
      },
      "source": [
        "##\n",
        "#!/usr/bin/env python 3\n",
        "\n",
        "## La función sort hace que todos los elementos con\n",
        "## la misma clave queden en lineas consecutivas.\n",
        "## Hace el papel del módulo Shuffle & Sort\n",
        "##\n",
        "!cat ./input/text*.txt | ./mapper.py | sort | ./reducer.py | head"
      ],
      "execution_count": 24,
      "outputs": [
        {
          "output_type": "stream",
          "text": [
            "/usr/bin/env: ‘python 3’: No such file or directory\n"
          ],
          "name": "stdout"
        }
      ]
    },
    {
      "cell_type": "code",
      "metadata": {
        "id": "nPt6YeTrV3Tv",
        "colab_type": "code",
        "colab": {
          "base_uri": "https://localhost:8080/",
          "height": 194
        },
        "outputId": "f4b12360-7350-48b2-8c5a-ae07c5975885"
      },
      "source": [
        "## Alternativamente\n",
        "!cat ./input/text*.txt | python3 mapper.py | sort | python3 reducer.py | head"
      ],
      "execution_count": 39,
      "outputs": [
        {
          "output_type": "stream",
          "text": [
            "10\t25\n",
            "1\t1\n",
            "11\t13\n",
            "12\t10\n",
            "13\t8\n",
            "15\t2\n",
            "2\t37\n",
            "3\t36\n",
            "4\t26\n",
            "5\t16\n"
          ],
          "name": "stdout"
        }
      ]
    },
    {
      "cell_type": "code",
      "metadata": {
        "id": "w1R1X1YjV2mS",
        "colab_type": "code",
        "colab": {}
      },
      "source": [
        "## limpieza\n",
        "!rm reducer.py mapper.py\n",
        "!rm -rf input"
      ],
      "execution_count": 0,
      "outputs": []
    }
  ]
}