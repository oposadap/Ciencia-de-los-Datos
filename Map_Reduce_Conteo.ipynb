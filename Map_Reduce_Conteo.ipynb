{
  "nbformat": 4,
  "nbformat_minor": 0,
  "metadata": {
    "colab": {
      "name": "Untitled0.ipynb",
      "provenance": [],
      "collapsed_sections": [],
      "include_colab_link": true
    },
    "kernelspec": {
      "name": "python3",
      "display_name": "Python 3"
    }
  },
  "cells": [
    {
      "cell_type": "markdown",
      "metadata": {
        "id": "view-in-github",
        "colab_type": "text"
      },
      "source": [
        "<a href=\"https://colab.research.google.com/github/oposadap/Ciencia-de-los-Datos/blob/master/Map_Reduce_Conteo.ipynb\" target=\"_parent\"><img src=\"https://colab.research.google.com/assets/colab-badge.svg\" alt=\"Open In Colab\"/></a>"
      ]
    },
    {
      "cell_type": "code",
      "metadata": {
        "id": "oziiedsOcM8S",
        "colab_type": "code",
        "colab": {}
      },
      "source": [
        "## Problema a resolver"
      ],
      "execution_count": 0,
      "outputs": []
    },
    {
      "cell_type": "code",
      "metadata": {
        "id": "D1G5XjWThUGv",
        "colab_type": "code",
        "colab": {}
      },
      "source": [
        "##   Se desea tener una tabla que indique el codigo del producto y el pais del cliente que lo adquirio\n",
        "!rm -rf input output\n",
        "!mkdir input"
      ],
      "execution_count": 0,
      "outputs": []
    },
    {
      "cell_type": "code",
      "metadata": {
        "id": "k7E-Q9Pccd67",
        "colab_type": "code",
        "colab": {
          "base_uri": "https://localhost:8080/",
          "height": 34
        },
        "outputId": "6050421d-2359-4a3d-ff31-e10349d9d8ba"
      },
      "source": [
        "## Creacion de los archivos fuente\n",
        "##   transacciones:\n",
        "##     Id Transaccion\n",
        "##     Id Producto\n",
        "##     Id Usuario\n",
        "##     Valor Venta Producto\n",
        "##     Nombre Producto\n",
        "##   usaurios:\n",
        "##     Id Usuario\n",
        "##     Email Usuario\n",
        "##     Lenguaje\n",
        "##     Pais\n",
        "\n",
        "%%writefile input/transacciones.txt\n",
        "1\t1\t1\t300\ta jumper\n",
        "2\t1\t2\t300\ta jumper\n",
        "3\t1\t2\t300\ta jumper\n",
        "4\t2\t3\t100\ta rubber chicken\n",
        "5\t1\t3\t300\ta jumper"
      ],
      "execution_count": 2,
      "outputs": [
        {
          "output_type": "stream",
          "text": [
            "Writing input/transacciones.txt\n"
          ],
          "name": "stdout"
        }
      ]
    },
    {
      "cell_type": "code",
      "metadata": {
        "id": "H-JZ3PAzcpTK",
        "colab_type": "code",
        "colab": {
          "base_uri": "https://localhost:8080/",
          "height": 34
        },
        "outputId": "faec817f-b2e5-40b2-c36a-bd32bdb95758"
      },
      "source": [
        "%%writefile input/usuarios.txt\n",
        "1\tmatthew@test.com\tEN\tUS\n",
        "2\tmatthew@test2.com\tEN\tGB\n",
        "3\tmatthew@test3.com\tFR\tFR"
      ],
      "execution_count": 3,
      "outputs": [
        {
          "output_type": "stream",
          "text": [
            "Writing input/usuarios.txt\n"
          ],
          "name": "stdout"
        }
      ]
    },
    {
      "cell_type": "code",
      "metadata": {
        "id": "sWftCrAJdHN2",
        "colab_type": "code",
        "colab": {
          "base_uri": "https://localhost:8080/",
          "height": 34
        },
        "outputId": "ea37db0c-8b63-4275-e847-2214d1ee1b9e"
      },
      "source": [
        "## Paso 1:\n",
        "##   Se crea un Mapper que una la información de los archivos en un unico flujo de datos\n",
        "\n",
        "%%writefile joinMapperTU.py\n",
        "#!/usr/bin/env python3\n",
        "import sys\n",
        "if __name__ == \"__main__\":\n",
        "\tfor line in sys.stdin:\n",
        "\t\t# Setting some defaults\n",
        "\t\tuser_id = \"\"\n",
        "\t\tproduct_id = \"-\"\n",
        "\t\tlocation = \"-\"\n",
        "\n",
        "\t\tline = line.strip()\n",
        "\t\tsplits = line.split(\"\\t\")\n",
        "\t\t#print(str(len(splits)) + ' :: ' + line)\n",
        "\t\tif len(splits) != 4: # Transactions have more columns than users\n",
        "\t\t\tuser_id = splits[2]\n",
        "\t\t\tproduct_id = splits[1]\n",
        "\t\telse:\n",
        "\t\t\tuser_id = splits[0]\n",
        "\t\t\tlocation = splits[3] \n",
        "##\t\tprint(user_id + '\\t' + product_id + '\\t' + location)"
      ],
      "execution_count": 4,
      "outputs": [
        {
          "output_type": "stream",
          "text": [
            "Writing joinMapperTU.py\n"
          ],
          "name": "stdout"
        }
      ]
    },
    {
      "cell_type": "code",
      "metadata": {
        "id": "T0S_y9yDfSVF",
        "colab_type": "code",
        "colab": {}
      },
      "source": [
        "## Se le da permisos de ejecución\n",
        "!chmod +x joinMapperTU.py"
      ],
      "execution_count": 0,
      "outputs": []
    },
    {
      "cell_type": "code",
      "metadata": {
        "id": "2MPBgr-Sfih2",
        "colab_type": "code",
        "colab": {
          "base_uri": "https://localhost:8080/",
          "height": 141
        },
        "outputId": "3c06ef6f-57c5-457d-cfbb-fd4f1815a9a7"
      },
      "source": [
        "## Se valida la ejecución y resultado\n",
        "!cat ./input/*.txt | ./joinMapperTU.py"
      ],
      "execution_count": 7,
      "outputs": [
        {
          "output_type": "stream",
          "text": [
            "1\t1\t-\n",
            "2\t1\t-\n",
            "2\t1\t-\n",
            "3\t2\t-\n",
            "3\t1\t-\n",
            "2\t-\tGB\n",
            "3\t-\tFR\n"
          ],
          "name": "stdout"
        }
      ]
    },
    {
      "cell_type": "code",
      "metadata": {
        "id": "8cNN0JqOghn1",
        "colab_type": "code",
        "colab": {
          "base_uri": "https://localhost:8080/",
          "height": 141
        },
        "outputId": "6681c75e-91da-4177-fa23-dace618d280c"
      },
      "source": [
        "## Notese que no es posible agruparlas porque los datos no estan ordenados, al ordenarlos sucede...\n",
        "!cat ./input/*.txt | ./joinMapperTU.py | sort"
      ],
      "execution_count": 8,
      "outputs": [
        {
          "output_type": "stream",
          "text": [
            "1\t1\t-\n",
            "2\t1\t-\n",
            "2\t1\t-\n",
            "2\t-\tGB\n",
            "3\t1\t-\n",
            "3\t2\t-\n",
            "3\t-\tFR\n"
          ],
          "name": "stdout"
        }
      ]
    },
    {
      "cell_type": "code",
      "metadata": {
        "id": "54A-8QEAhoWW",
        "colab_type": "code",
        "colab": {}
      },
      "source": [
        "## Paso 2\n",
        "##   Se crea el reducer que permite agrupar la información\n",
        "\n"
      ],
      "execution_count": 0,
      "outputs": []
    }
  ]
}